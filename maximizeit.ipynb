{
 "cells": [
  {
   "cell_type": "code",
   "execution_count": 2,
   "metadata": {},
   "outputs": [
    {
     "name": "stdout",
     "output_type": "stream",
     "text": [
      "3 1000\n",
      "2 5 4\n",
      "3 7 8 9\n",
      "5 5 7 8 9 10\n",
      "206\n"
     ]
    }
   ],
   "source": [
    "k,m=map(int,input().split())\n",
    "a=[]\n",
    "for i in range (k):\n",
    "    a.append(map(lambda x:x**2,map(int,input().split()[1:])))\n",
    "r=[[]]\n",
    "for x in a:\n",
    "    t = []\n",
    "    for y in x:\n",
    "            for i in r:\n",
    "                t.append(i+[y])\n",
    "    r = t\n",
    "for i in range (len(r)):\n",
    "    r[i]=(sum(r[i])%m)\n",
    "print (max(r))"
   ]
  },
  {
   "cell_type": "code",
   "execution_count": null,
   "metadata": {},
   "outputs": [],
   "source": []
  }
 ],
 "metadata": {
  "kernelspec": {
   "display_name": "Python 3",
   "language": "python",
   "name": "python3"
  },
  "language_info": {
   "codemirror_mode": {
    "name": "ipython",
    "version": 3
   },
   "file_extension": ".py",
   "mimetype": "text/x-python",
   "name": "python",
   "nbconvert_exporter": "python",
   "pygments_lexer": "ipython3",
   "version": "3.7.3"
  }
 },
 "nbformat": 4,
 "nbformat_minor": 2
}
